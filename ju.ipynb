{
 "cells": [
  {
   "cell_type": "code",
   "execution_count": 51,
   "id": "b0ec01d6-8799-4f98-bc79-a9e3dcc97652",
   "metadata": {},
   "outputs": [],
   "source": [
    "data = [(0, 6), (0, 7), (0, 8), (1, 6), (1, 8), (2, 6), (2, 8), (3, 6), (3, 8), (4, 2), (4, 3), (4, 4), (4, 5), (4, 6), (4, 8), (4, 9), (4, 10), (4, 11), (4, 12), (5, 2), (5, 12), (6, 2), (6, 3), (6, 4), (6, 5), (6, 6), (6, 8), (6, 9), (6, 10), (6, 11), (6, 12), (7, 6), (7, 8), (8, 6), (8, 8), (9, 6), (9, 8), (10, 6), (10, 7), (10, 8)]"
   ]
  },
  {
   "cell_type": "code",
   "execution_count": 29,
   "id": "f8fd7ac5",
   "metadata": {},
   "outputs": [],
   "source": [
    "def change(li):\n",
    "    return li[::-1]"
   ]
  },
  {
   "cell_type": "code",
   "execution_count": 52,
   "id": "97829180",
   "metadata": {},
   "outputs": [
    {
     "data": {
      "text/plain": [
       "[(0, 8),\n",
       " (1, 8),\n",
       " (2, 8),\n",
       " (3, 8),\n",
       " (4, 8),\n",
       " (4, 9),\n",
       " (4, 10),\n",
       " (4, 11),\n",
       " (4, 12),\n",
       " (5, 12),\n",
       " (6, 12),\n",
       " (6, 11),\n",
       " (6, 10),\n",
       " (6, 9),\n",
       " (6, 8),\n",
       " (7, 8),\n",
       " (8, 8),\n",
       " (9, 8),\n",
       " (10, 8),\n",
       " (10, 7)]"
      ]
     },
     "execution_count": 52,
     "metadata": {},
     "output_type": "execute_result"
    }
   ],
   "source": [
    "start_1 = 0, 8\n",
    "sort = []\n",
    "sort.append(start_1)\n",
    "j_nsort = []\n",
    "for i, j in data[3:]:\n",
    "    if j >= start_1[1] and i > start_1[0]:\n",
    "        if i != 6:\n",
    "            sort.append((i, j))\n",
    "        else:\n",
    "            j_nsort.append((i,j))\n",
    "            if j == 12:\n",
    "                row_sort = change(j_nsort)\n",
    "                sort.extend(row_sort)\n",
    "\n",
    "sort.append((10, 7))\n",
    "start_2 = (10, 6)\n",
    "\n",
    "sort\n"
   ]
  },
  {
   "cell_type": "code",
   "execution_count": 53,
   "id": "8dc5b2e0",
   "metadata": {},
   "outputs": [],
   "source": [
    "for i in sort:\n",
    "    data.remove(i)"
   ]
  },
  {
   "cell_type": "code",
   "execution_count": 54,
   "id": "0dfc2482",
   "metadata": {},
   "outputs": [],
   "source": [
    "data.reverse()"
   ]
  },
  {
   "cell_type": "code",
   "execution_count": 56,
   "id": "c03304e5",
   "metadata": {},
   "outputs": [],
   "source": [
    "data[-1], data[-2] = data[-2], data[-1]"
   ]
  },
  {
   "cell_type": "code",
   "execution_count": 57,
   "id": "2049a0db",
   "metadata": {},
   "outputs": [
    {
     "data": {
      "text/plain": [
       "[(10, 6),\n",
       " (9, 6),\n",
       " (8, 6),\n",
       " (7, 6),\n",
       " (6, 6),\n",
       " (6, 5),\n",
       " (6, 4),\n",
       " (6, 3),\n",
       " (6, 2),\n",
       " (5, 2),\n",
       " (4, 6),\n",
       " (4, 5),\n",
       " (4, 4),\n",
       " (4, 3),\n",
       " (4, 2),\n",
       " (3, 6),\n",
       " (2, 6),\n",
       " (1, 6),\n",
       " (0, 6),\n",
       " (0, 7)]"
      ]
     },
     "execution_count": 57,
     "metadata": {},
     "output_type": "execute_result"
    }
   ],
   "source": [
    "data"
   ]
  },
  {
   "cell_type": "code",
   "execution_count": 59,
   "id": "14837d4e",
   "metadata": {},
   "outputs": [
    {
     "name": "stdout",
     "output_type": "stream",
     "text": [
      "10\n",
      "14\n"
     ]
    }
   ],
   "source": [
    "print(data.index((4, 6)))\n",
    "print(data.index((4, 2)))"
   ]
  },
  {
   "cell_type": "code",
   "execution_count": 65,
   "id": "3eb20758",
   "metadata": {},
   "outputs": [
    {
     "data": {
      "text/plain": [
       "[(4, 6), (4, 5), (4, 4), (4, 3), (4, 2)]"
      ]
     },
     "execution_count": 65,
     "metadata": {},
     "output_type": "execute_result"
    }
   ],
   "source": [
    "data[10:15]"
   ]
  },
  {
   "cell_type": "code",
   "execution_count": 66,
   "id": "287f319c",
   "metadata": {},
   "outputs": [],
   "source": [
    "data[10], data[11], data[12], data[13], data[14] = data[14], data[13], data[12], data[11], data[10]"
   ]
  },
  {
   "cell_type": "code",
   "execution_count": 68,
   "id": "2319493a",
   "metadata": {},
   "outputs": [],
   "source": [
    "sort.extend(data)"
   ]
  },
  {
   "cell_type": "code",
   "execution_count": 69,
   "id": "e8f5dc9e",
   "metadata": {},
   "outputs": [
    {
     "data": {
      "text/plain": [
       "[(0, 8),\n",
       " (1, 8),\n",
       " (2, 8),\n",
       " (3, 8),\n",
       " (4, 8),\n",
       " (4, 9),\n",
       " (4, 10),\n",
       " (4, 11),\n",
       " (4, 12),\n",
       " (5, 12),\n",
       " (6, 12),\n",
       " (6, 11),\n",
       " (6, 10),\n",
       " (6, 9),\n",
       " (6, 8),\n",
       " (7, 8),\n",
       " (8, 8),\n",
       " (9, 8),\n",
       " (10, 8),\n",
       " (10, 7),\n",
       " (10, 6),\n",
       " (9, 6),\n",
       " (8, 6),\n",
       " (7, 6),\n",
       " (6, 6),\n",
       " (6, 5),\n",
       " (6, 4),\n",
       " (6, 3),\n",
       " (6, 2),\n",
       " (5, 2),\n",
       " (4, 2),\n",
       " (4, 3),\n",
       " (4, 4),\n",
       " (4, 5),\n",
       " (4, 6),\n",
       " (3, 6),\n",
       " (2, 6),\n",
       " (1, 6),\n",
       " (0, 6),\n",
       " (0, 7)]"
      ]
     },
     "execution_count": 69,
     "metadata": {},
     "output_type": "execute_result"
    }
   ],
   "source": [
    "sort"
   ]
  }
 ],
 "metadata": {
  "kernelspec": {
   "display_name": "Python 3 (ipykernel)",
   "language": "python",
   "name": "python3"
  },
  "language_info": {
   "codemirror_mode": {
    "name": "ipython",
    "version": 3
   },
   "file_extension": ".py",
   "mimetype": "text/x-python",
   "name": "python",
   "nbconvert_exporter": "python",
   "pygments_lexer": "ipython3",
   "version": "3.11.6"
  }
 },
 "nbformat": 4,
 "nbformat_minor": 5
}
