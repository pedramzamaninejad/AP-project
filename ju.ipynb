{
 "cells": [
  {
   "cell_type": "code",
   "execution_count": 3,
   "id": "initial_id",
   "metadata": {
    "collapsed": true,
    "ExecuteTime": {
     "end_time": "2024-06-06T09:59:06.901389669Z",
     "start_time": "2024-06-06T09:59:06.524914860Z"
    }
   },
   "outputs": [],
   "source": [
    "import pandas as pd\n",
    "import os "
   ]
  },
  {
   "cell_type": "code",
   "execution_count": 4,
   "outputs": [],
   "source": [
    "BASE_DIR = r\"/home/pedram/Desktop/ap_project/University/LIb-1\"\n",
    "os.chdir(BASE_DIR)\n",
    "\n",
    "for i in os.listdir():\n",
    "    c = pd.read_csv(BASE_DIR + '/' +i, delimiter=' ', header=0)\n"
   ],
   "metadata": {
    "collapsed": false,
    "ExecuteTime": {
     "end_time": "2024-06-06T09:59:07.884246896Z",
     "start_time": "2024-06-06T09:59:07.860048443Z"
    }
   },
   "id": "3853d3761ae12bed"
  },
  {
   "cell_type": "code",
   "execution_count": 15,
   "outputs": [
    {
     "data": {
      "text/plain": "                     name  year_published              writers        keyword\n0   To Kill a Mockingbird            1960           Harper Lee        classic\n1                    1984            1949        George Orwell      dystopian\n2     Pride and Prejudice            1813          Jane Austen        romance\n3        The Great Gatsby            1925  F. Scott Fitzgerald        classic\n4               Moby-Dick            1851      Herman Melville      adventure\n5           War and Peace            1869          Leo Tolstoy     historical\n6  The Catcher in the Rye            1951        J.D. Salinger  coming-of-age\n7              The Hobbit            1937       J.R.R. Tolkien        fantasy\n8         Brave New World            1932        Aldous Huxley      dystopian\n9             The Odyssey            -800                Homer           epic",
      "text/html": "<div>\n<style scoped>\n    .dataframe tbody tr th:only-of-type {\n        vertical-align: middle;\n    }\n\n    .dataframe tbody tr th {\n        vertical-align: top;\n    }\n\n    .dataframe thead th {\n        text-align: right;\n    }\n</style>\n<table border=\"1\" class=\"dataframe\">\n  <thead>\n    <tr style=\"text-align: right;\">\n      <th></th>\n      <th>name</th>\n      <th>year_published</th>\n      <th>writers</th>\n      <th>keyword</th>\n    </tr>\n  </thead>\n  <tbody>\n    <tr>\n      <th>0</th>\n      <td>To Kill a Mockingbird</td>\n      <td>1960</td>\n      <td>Harper Lee</td>\n      <td>classic</td>\n    </tr>\n    <tr>\n      <th>1</th>\n      <td>1984</td>\n      <td>1949</td>\n      <td>George Orwell</td>\n      <td>dystopian</td>\n    </tr>\n    <tr>\n      <th>2</th>\n      <td>Pride and Prejudice</td>\n      <td>1813</td>\n      <td>Jane Austen</td>\n      <td>romance</td>\n    </tr>\n    <tr>\n      <th>3</th>\n      <td>The Great Gatsby</td>\n      <td>1925</td>\n      <td>F. Scott Fitzgerald</td>\n      <td>classic</td>\n    </tr>\n    <tr>\n      <th>4</th>\n      <td>Moby-Dick</td>\n      <td>1851</td>\n      <td>Herman Melville</td>\n      <td>adventure</td>\n    </tr>\n    <tr>\n      <th>5</th>\n      <td>War and Peace</td>\n      <td>1869</td>\n      <td>Leo Tolstoy</td>\n      <td>historical</td>\n    </tr>\n    <tr>\n      <th>6</th>\n      <td>The Catcher in the Rye</td>\n      <td>1951</td>\n      <td>J.D. Salinger</td>\n      <td>coming-of-age</td>\n    </tr>\n    <tr>\n      <th>7</th>\n      <td>The Hobbit</td>\n      <td>1937</td>\n      <td>J.R.R. Tolkien</td>\n      <td>fantasy</td>\n    </tr>\n    <tr>\n      <th>8</th>\n      <td>Brave New World</td>\n      <td>1932</td>\n      <td>Aldous Huxley</td>\n      <td>dystopian</td>\n    </tr>\n    <tr>\n      <th>9</th>\n      <td>The Odyssey</td>\n      <td>-800</td>\n      <td>Homer</td>\n      <td>epic</td>\n    </tr>\n  </tbody>\n</table>\n</div>"
     },
     "execution_count": 15,
     "metadata": {},
     "output_type": "execute_result"
    }
   ],
   "source": [
    "c"
   ],
   "metadata": {
    "collapsed": false,
    "ExecuteTime": {
     "end_time": "2024-06-06T10:01:18.363266988Z",
     "start_time": "2024-06-06T10:01:18.353870290Z"
    }
   },
   "id": "29e19f15cc963410"
  },
  {
   "cell_type": "code",
   "execution_count": 5,
   "outputs": [
    {
     "data": {
      "text/plain": "name              To Kill a Mockingbird\nyear_published                     1960\nwriters                      Harper Lee\nkeyword                         classic\nName: 0, dtype: object"
     },
     "execution_count": 5,
     "metadata": {},
     "output_type": "execute_result"
    }
   ],
   "source": [
    "c.iloc[0]"
   ],
   "metadata": {
    "collapsed": false,
    "ExecuteTime": {
     "end_time": "2024-06-06T09:59:08.798876249Z",
     "start_time": "2024-06-06T09:59:08.792948343Z"
    }
   },
   "id": "1544b33d0cd5f49f"
  },
  {
   "cell_type": "code",
   "execution_count": 27,
   "outputs": [
    {
     "data": {
      "text/plain": "10"
     },
     "execution_count": 27,
     "metadata": {},
     "output_type": "execute_result"
    }
   ],
   "source": [
    "int(c.count().values[0])"
   ],
   "metadata": {
    "collapsed": false,
    "ExecuteTime": {
     "end_time": "2024-06-06T10:04:19.696444332Z",
     "start_time": "2024-06-06T10:04:19.690940409Z"
    }
   },
   "id": "94c3714273a899c2"
  },
  {
   "cell_type": "code",
   "execution_count": 31,
   "outputs": [
    {
     "name": "stdout",
     "output_type": "stream",
     "text": [
      "To Kill a Mockingbird\n",
      "\n",
      "1984\n",
      "\n",
      "Pride and Prejudice\n",
      "\n",
      "The Great Gatsby\n",
      "\n",
      "Moby-Dick\n",
      "\n",
      "War and Peace\n",
      "\n",
      "The Catcher in the Rye\n",
      "\n",
      "The Hobbit\n",
      "\n",
      "Brave New World\n",
      "\n",
      "The Odyssey\n"
     ]
    }
   ],
   "source": [
    "for i in range(int(c.count().values[0])):\n",
    "    print(c.iloc[i]['name'])\n",
    "    print()"
   ],
   "metadata": {
    "collapsed": false,
    "ExecuteTime": {
     "end_time": "2024-06-06T10:05:26.001125563Z",
     "start_time": "2024-06-06T10:05:25.995946863Z"
    }
   },
   "id": "c4838cec0b609f72"
  },
  {
   "cell_type": "code",
   "execution_count": 33,
   "outputs": [
    {
     "data": {
      "text/plain": "[('To Kill a Mockingbird', 'Harper Lee', 1960, 'classic'),\n ('1984', 'George Orwell', 1949, 'dystopian'),\n ('Pride and Prejudice', 'Jane Austen', 1813, 'romance'),\n ('The Great Gatsby', 'F. Scott Fitzgerald', 1925, 'classic'),\n ('Moby-Dick', 'Herman Melville', 1851, 'adventure'),\n ('War and Peace', 'Leo Tolstoy', 1869, 'historical'),\n ('The Catcher in the Rye', 'J.D. Salinger', 1951, 'coming-of-age'),\n ('The Hobbit', 'J.R.R. Tolkien', 1937, 'fantasy'),\n ('Brave New World', 'Aldous Huxley', 1932, 'dystopian'),\n ('The Odyssey', 'Homer', -800, 'epic')]"
     },
     "execution_count": 33,
     "metadata": {},
     "output_type": "execute_result"
    }
   ],
   "source": [
    "[(c.iloc[i]['name'], c.iloc[i]['writers'], c.iloc[i]['year_published'], c.iloc[i]['keyword']) for i in range(int(c.count().values[0]))]"
   ],
   "metadata": {
    "collapsed": false,
    "ExecuteTime": {
     "end_time": "2024-06-06T10:08:44.705560757Z",
     "start_time": "2024-06-06T10:08:44.698232479Z"
    }
   },
   "id": "4c51002dc3f8b4d3"
  },
  {
   "cell_type": "code",
   "execution_count": 38,
   "outputs": [
    {
     "data": {
      "text/plain": "'To Kill a Mockingbird'"
     },
     "execution_count": 38,
     "metadata": {},
     "output_type": "execute_result"
    }
   ],
   "source": [
    "c.loc[0]['name']"
   ],
   "metadata": {
    "collapsed": false,
    "ExecuteTime": {
     "end_time": "2024-06-06T10:10:10.354283093Z",
     "start_time": "2024-06-06T10:10:10.313590813Z"
    }
   },
   "id": "8a2ec2a0ab7887ef"
  },
  {
   "cell_type": "code",
   "execution_count": 39,
   "outputs": [
    {
     "data": {
      "text/plain": "10"
     },
     "execution_count": 39,
     "metadata": {},
     "output_type": "execute_result"
    }
   ],
   "source": [
    "len(c)"
   ],
   "metadata": {
    "collapsed": false,
    "ExecuteTime": {
     "end_time": "2024-06-06T10:12:37.595552633Z",
     "start_time": "2024-06-06T10:12:37.545941744Z"
    }
   },
   "id": "46e0d2d153d4fbe3"
  },
  {
   "cell_type": "code",
   "execution_count": null,
   "outputs": [],
   "source": [],
   "metadata": {
    "collapsed": false
   },
   "id": "fb807b25999d5fda"
  }
 ],
 "metadata": {
  "kernelspec": {
   "display_name": "Python 3",
   "language": "python",
   "name": "python3"
  },
  "language_info": {
   "codemirror_mode": {
    "name": "ipython",
    "version": 2
   },
   "file_extension": ".py",
   "mimetype": "text/x-python",
   "name": "python",
   "nbconvert_exporter": "python",
   "pygments_lexer": "ipython2",
   "version": "2.7.6"
  }
 },
 "nbformat": 4,
 "nbformat_minor": 5
}
