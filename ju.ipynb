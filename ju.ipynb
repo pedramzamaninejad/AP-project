{
 "cells": [
  {
   "cell_type": "code",
   "execution_count": 1,
   "id": "initial_id",
   "metadata": {
    "collapsed": true,
    "ExecuteTime": {
     "end_time": "2024-06-08T19:45:42.139954935Z",
     "start_time": "2024-06-08T19:45:41.966081346Z"
    }
   },
   "outputs": [],
   "source": [
    "import pandas as pd\n",
    "import os "
   ]
  },
  {
   "cell_type": "code",
   "execution_count": 2,
   "outputs": [],
   "source": [
    "BASE_DIR = r\"/home/pedram/Desktop/ap_project/University/LIb-1\"\n",
    "os.chdir(BASE_DIR)\n"
   ],
   "metadata": {
    "collapsed": false,
    "ExecuteTime": {
     "end_time": "2024-06-08T19:45:42.571554527Z",
     "start_time": "2024-06-08T19:45:42.568883350Z"
    }
   },
   "id": "3853d3761ae12bed"
  },
  {
   "cell_type": "code",
   "execution_count": 3,
   "outputs": [],
   "source": [
    "from p1 import Library\n",
    "\n",
    "l1 = Library(BASE_DIR)"
   ],
   "metadata": {
    "collapsed": false,
    "ExecuteTime": {
     "end_time": "2024-06-08T19:45:43.130944686Z",
     "start_time": "2024-06-08T19:45:43.124730159Z"
    }
   },
   "id": "fb807b25999d5fda"
  },
  {
   "cell_type": "code",
   "execution_count": 4,
   "outputs": [],
   "source": [
    "l1.read_book_from_csv()"
   ],
   "metadata": {
    "collapsed": false,
    "ExecuteTime": {
     "end_time": "2024-06-08T19:45:43.562397462Z",
     "start_time": "2024-06-08T19:45:43.555591016Z"
    }
   },
   "id": "f574b321ef486d82"
  },
  {
   "cell_type": "code",
   "execution_count": 5,
   "outputs": [
    {
     "name": "stdout",
     "output_type": "stream",
     "text": [
      "10\n"
     ]
    },
    {
     "data": {
      "text/plain": "[<p1.Book at 0x736d9ee24e90>,\n <p1.Book at 0x736d9e464ad0>,\n <p1.Book at 0x736d9e351490>,\n <p1.Book at 0x736d9e351a90>,\n <p1.Book at 0x736d9e351d90>,\n <p1.Book at 0x736d9e351d50>,\n <p1.Book at 0x736d9e351e10>,\n <p1.Book at 0x736d9e351cd0>,\n <p1.Book at 0x736d9e351e50>,\n <p1.Book at 0x736d9e351e90>]"
     },
     "execution_count": 5,
     "metadata": {},
     "output_type": "execute_result"
    }
   ],
   "source": [
    "print(len(l1))\n",
    "l1.books"
   ],
   "metadata": {
    "collapsed": false,
    "ExecuteTime": {
     "end_time": "2024-06-08T19:45:44.730312825Z",
     "start_time": "2024-06-08T19:45:44.726647334Z"
    }
   },
   "id": "1b54a9425c4256d2"
  },
  {
   "cell_type": "code",
   "execution_count": 6,
   "outputs": [
    {
     "data": {
      "text/plain": "'Book has been added successfuly'"
     },
     "execution_count": 6,
     "metadata": {},
     "output_type": "execute_result"
    }
   ],
   "source": [
    "l1.add_book('pedram', '1403', 'pedram-zamaninejad', 'haji')"
   ],
   "metadata": {
    "collapsed": false,
    "ExecuteTime": {
     "end_time": "2024-06-08T19:45:48.139030178Z",
     "start_time": "2024-06-08T19:45:48.127007894Z"
    }
   },
   "id": "46e3242b11ee4b23"
  },
  {
   "cell_type": "code",
   "execution_count": 15,
   "outputs": [
    {
     "data": {
      "text/plain": "{'name': 'pedram',\n 'year_published': '1403',\n 'writers': 'pedram-zamaninejad',\n 'keyword': 'haji'}"
     },
     "execution_count": 15,
     "metadata": {},
     "output_type": "execute_result"
    }
   ],
   "source": [
    "l1.book_info('pedram')"
   ],
   "metadata": {
    "collapsed": false,
    "ExecuteTime": {
     "end_time": "2024-06-08T19:48:04.640074910Z",
     "start_time": "2024-06-08T19:48:04.631597379Z"
    }
   },
   "id": "5370e351cdd21ae9"
  },
  {
   "cell_type": "code",
   "execution_count": 8,
   "outputs": [
    {
     "name": "stdout",
     "output_type": "stream",
     "text": [
      "11\n"
     ]
    }
   ],
   "source": [
    "print(len(l1))"
   ],
   "metadata": {
    "collapsed": false,
    "ExecuteTime": {
     "end_time": "2024-06-08T19:46:43.834548774Z",
     "start_time": "2024-06-08T19:46:43.777933279Z"
    }
   },
   "id": "492d3a0f0d8b23da"
  },
  {
   "cell_type": "code",
   "execution_count": 10,
   "outputs": [],
   "source": [
    "ped = l1.books[-1]"
   ],
   "metadata": {
    "collapsed": false,
    "ExecuteTime": {
     "end_time": "2024-06-08T19:47:07.642860960Z",
     "start_time": "2024-06-08T19:47:07.635474586Z"
    }
   },
   "id": "95d3e91337a9c082"
  },
  {
   "cell_type": "code",
   "execution_count": 11,
   "outputs": [
    {
     "data": {
      "text/plain": "<p1.Book at 0x736d9e352ad0>"
     },
     "execution_count": 11,
     "metadata": {},
     "output_type": "execute_result"
    }
   ],
   "source": [
    "ped"
   ],
   "metadata": {
    "collapsed": false,
    "ExecuteTime": {
     "end_time": "2024-06-08T19:47:10.740205520Z",
     "start_time": "2024-06-08T19:47:10.734786639Z"
    }
   },
   "id": "5bf1acd3e2742cf"
  },
  {
   "cell_type": "code",
   "execution_count": 14,
   "outputs": [
    {
     "data": {
      "text/plain": "{'name': 'pedram',\n 'year_published': '1403',\n 'writers': 'pedram-zamaninejad',\n 'keyword': 'haji'}"
     },
     "execution_count": 14,
     "metadata": {},
     "output_type": "execute_result"
    }
   ],
   "source": [
    "ped.info()"
   ],
   "metadata": {
    "collapsed": false,
    "ExecuteTime": {
     "end_time": "2024-06-08T19:47:56.468877264Z",
     "start_time": "2024-06-08T19:47:56.461981851Z"
    }
   },
   "id": "f598a31133f9c751"
  },
  {
   "cell_type": "code",
   "execution_count": null,
   "outputs": [],
   "source": [],
   "metadata": {
    "collapsed": false
   },
   "id": "3d555f85043101f"
  }
 ],
 "metadata": {
  "kernelspec": {
   "display_name": "Python 3",
   "language": "python",
   "name": "python3"
  },
  "language_info": {
   "codemirror_mode": {
    "name": "ipython",
    "version": 2
   },
   "file_extension": ".py",
   "mimetype": "text/x-python",
   "name": "python",
   "nbconvert_exporter": "python",
   "pygments_lexer": "ipython2",
   "version": "2.7.6"
  }
 },
 "nbformat": 4,
 "nbformat_minor": 5
}
